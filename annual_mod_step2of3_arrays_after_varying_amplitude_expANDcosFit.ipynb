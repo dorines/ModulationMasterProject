{
 "cells": [
  {
   "cell_type": "code",
   "execution_count": 1,
   "metadata": {
    "collapsed": false
   },
   "outputs": [],
   "source": [
    "# step 2 of 3, annual modulation simulation\n",
    "\n",
    "import numpy as np\n",
    "import matplotlib.pyplot as plt\n",
    "import math\n",
    "\n",
    "\n",
    "A0 = 37\n",
    "\n",
    "# saving arrays: mean_found_amplitude/phase/frequency_array, stdv_found_amplitude/phase/frequency_array \n",
    "# from the notebook Sim_radioactive_decay_24h_FFT_loop_varying_amplitude\n",
    "\n",
    "annual_mod_input_amplitude_CosFit_005_01 = np.loadtxt(\"annual_mod_input_amplitude_CosFit_0.005_0.01_expcosF\")\n",
    "annual_mod_input_amplitude_CosFit_0005_005 = np.loadtxt(\"annual_mod_input_amplitude_CosFit_0.0005_0.005_expcosF\")\n",
    "annual_mod_input_amplitude_CosFit = np.hstack((annual_mod_input_amplitude_CosFit_0005_005, annual_mod_input_amplitude_CosFit_005_01))"
   ]
  },
  {
   "cell_type": "code",
   "execution_count": 3,
   "metadata": {
    "collapsed": false
   },
   "outputs": [],
   "source": [
    "# for a simulated measurement time of 500 days. With exp and cosine fit together  \n",
    "                                                               \n",
    "mean_found_amplitude_expANDcosFit_annual_mod_005_01_500 = np.loadtxt(\"annual_mod_mean_found_amplitude_expANDcosFit_500_0.005_0.01_500runsF,\")\n",
    "mean_found_amplitude_expANDcosFit_annual_mod_0_005_500 = np.loadtxt(\"annual_mod_mean_found_amplitude_expANDcosFit_500_0.0005_0.005_500runsF,\")\n",
    "mean_found_amplitude_expANDcosFit_annual_mod_500 = np.hstack((mean_found_amplitude_expANDcosFit_annual_mod_0_005_500, mean_found_amplitude_expANDcosFit_annual_mod_005_01_500))\n",
    "stdv_found_amplitude_expANDcosFit_annual_mod_005_01_500 = np.loadtxt(\"annual_mod_stdv_found_amplitude_expANDcosFit_500_0.005_0.01_500runsF\")\n",
    "stdv_found_amplitude_expANDcosFit_annual_mod_0_005_500 = np.loadtxt(\"annual_mod_stdv_found_amplitude_expANDcosFit_500_0.0005_0.005_500runsF\")                                                    \n",
    "stdv_found_amplitude_expANDcosFit_annual_mod_500 = np.hstack((stdv_found_amplitude_expANDcosFit_annual_mod_0_005_500, stdv_found_amplitude_expANDcosFit_annual_mod_005_01_500))\n",
    "relative_error_found_amplitude_annual_mod_500_expANDcosFit = 100*stdv_found_amplitude_expANDcosFit_annual_mod_500/mean_found_amplitude_expANDcosFit_annual_mod_500\n",
    "\n",
    "mean_found_frequency_expANDcosFit_annual_mod_005_01_500 = np.loadtxt(\"annual_mod_mean_found_frequency_expANDcosFit_500_0.005_0.01_500runsF\")\n",
    "mean_found_frequency_expANDcosFit_annual_mod_0_005_500 = np.loadtxt(\"annual_mod_mean_found_frequency_expANDcosFit_500_0.0005_0.005_500runsF\")                                                    \n",
    "mean_found_frequency_expANDcosFit_annual_mod_500 = np.hstack((mean_found_frequency_expANDcosFit_annual_mod_0_005_500, mean_found_frequency_expANDcosFit_annual_mod_005_01_500))\n",
    "stdv_found_frequency_expANDcosFit_annual_mod_005_01_500 = np.loadtxt(\"annual_mod_stdv_found_frequency_expANDcosFit_500_0.005_0.01_500runsF\")\n",
    "stdv_found_frequency_expANDcosFit_annual_mod_0_005_500 = np.loadtxt(\"annual_mod_stdv_found_frequency_expANDcosFit_500_0.0005_0.005_500runsF\")                                                    \n",
    "stdv_found_frequency_expANDcosFit_annual_mod_500 = np.hstack((stdv_found_frequency_expANDcosFit_annual_mod_0_005_500, stdv_found_frequency_expANDcosFit_annual_mod_005_01_500))\n",
    "relative_error_found_frequency_annual_mod_500_expANDcosFit = 100*stdv_found_frequency_expANDcosFit_annual_mod_500/mean_found_frequency_expANDcosFit_annual_mod_500\n",
    "\n",
    "mean_found_phase_expANDcosFit_annual_mod_005_01_500 = np.loadtxt(\"annual_mod_mean_found_phase_expANDcosFit_500_0.005_0.01_500runsF\")\n",
    "mean_found_phase_expANDcosFit_annual_mod_0_005_500 = np.loadtxt(\"annual_mod_mean_found_phase_expANDcosFit_500_0.0005_0.005_500runsF\")                                                    \n",
    "mean_found_phase_expANDcosFit_annual_mod_500 = np.hstack((mean_found_phase_expANDcosFit_annual_mod_0_005_500, mean_found_phase_expANDcosFit_annual_mod_005_01_500))\n",
    "stdv_found_phase_expANDcosFit_annual_mod_005_01_500 = np.loadtxt(\"annual_mod_stdv_found_phase_expANDcosFit_500_0.005_0.01_500runsF\")\n",
    "stdv_found_phase_expANDcosFit_annual_mod_0_005_500 = np.loadtxt(\"annual_mod_stdv_found_phase_expANDcosFit_500_0.0005_0.005_500runsF\")\n",
    "stdv_found_phase_expANDcosFit_annual_mod_500 = np.hstack((stdv_found_phase_expANDcosFit_annual_mod_0_005_500, stdv_found_phase_expANDcosFit_annual_mod_005_01_500))\n",
    "relative_error_found_phase_annual_mod_500_expANDcosFit = 100*stdv_found_phase_expANDcosFit_annual_mod_500/mean_found_phase_expANDcosFit_annual_mod_500"
   ]
  },
  {
   "cell_type": "code",
   "execution_count": 4,
   "metadata": {
    "collapsed": false
   },
   "outputs": [],
   "source": [
    "np.savetxt('annual_mod_input_amplitude_expANDcosFitF', annual_mod_input_amplitude_CosFit)"
   ]
  },
  {
   "cell_type": "code",
   "execution_count": 6,
   "metadata": {
    "collapsed": true
   },
   "outputs": [],
   "source": [
    "# 500 days With exp and cosine fit together\n",
    "np.savetxt('mean_found_amplitude_expANDcosFit_annual_mod_500_500rF', mean_found_amplitude_expANDcosFit_annual_mod_500)\n",
    "np.savetxt('stdv_found_amplitude_expANDcosFit_annual_mod_500_500rF', stdv_found_amplitude_expANDcosFit_annual_mod_500)\n",
    "np.savetxt('mean_found_frequency_expANDcosFit_annual_mod_500_500rF', mean_found_frequency_expANDcosFit_annual_mod_500)\n",
    "np.savetxt('stdv_found_frequency_expANDcosFit_annual_mod_500_500rF', stdv_found_frequency_expANDcosFit_annual_mod_500)\n",
    "np.savetxt('mean_found_phase_expANDcosFit_annual_mod_500_500rF', mean_found_phase_expANDcosFit_annual_mod_500)\n",
    "np.savetxt('stdv_found_phase_expANDcosFit_annual_mod_500_500rF', stdv_found_phase_expANDcosFit_annual_mod_500)"
   ]
  },
  {
   "cell_type": "code",
   "execution_count": 7,
   "metadata": {
    "collapsed": true
   },
   "outputs": [],
   "source": [
    "# 500 days \n",
    "np.savetxt('relative_error_found_amplitude_annual_mod_500_expANDcosFit_500rF', relative_error_found_amplitude_annual_mod_500_expANDcosFit)\n",
    "np.savetxt('relative_error_found_frequency_annual_mod_500_expANDcosFit_500rF', relative_error_found_frequency_annual_mod_500_expANDcosFit)\n",
    "np.savetxt('relative_error_found_phase_annual_mod_500_expANDcosFit_500rF', relative_error_found_phase_annual_mod_500_expANDcosFit)"
   ]
  },
  {
   "cell_type": "code",
   "execution_count": null,
   "metadata": {
    "collapsed": true
   },
   "outputs": [],
   "source": []
  }
 ],
 "metadata": {
  "kernelspec": {
   "display_name": "Python 2",
   "language": "python",
   "name": "python2"
  },
  "language_info": {
   "codemirror_mode": {
    "name": "ipython",
    "version": 2
   },
   "file_extension": ".py",
   "mimetype": "text/x-python",
   "name": "python",
   "nbconvert_exporter": "python",
   "pygments_lexer": "ipython2",
   "version": "2.7.10"
  }
 },
 "nbformat": 4,
 "nbformat_minor": 0
}
