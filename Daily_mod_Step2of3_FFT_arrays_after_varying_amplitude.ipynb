{
 "cells": [
  {
   "cell_type": "code",
   "execution_count": 1,
   "metadata": {
    "collapsed": false
   },
   "outputs": [],
   "source": [
    "#Step 2 of 3, daily modulation\n",
    "\n",
    "import numpy as np\n",
    "import matplotlib.pyplot as plt\n",
    "import math\n",
    "#from tempfile import TemporaryFile\n",
    "\n",
    "A0 = 37\n",
    "\n",
    "# saving arrays: mean_found_amplitude/phase/frequency_array, stdv_found_amplitude/phase/frequency_array \n",
    "# from the notebook Sim_radioactive_decay_24h_FFT_loop_varying_amplitude\n",
    "\n",
    "input_amplitude_array_NO24h_1st_part = np.loadtxt(\"input_amplitude_array_NO24h_V2_0.000005_0.002\")\n",
    "input_amplitude_array_NO24h_2nd_part = np.loadtxt(\"input_amplitude_array_NO24h_V2_0.002_0.02\")\n",
    "input_amplitude_array_NO24h_V2 = np.hstack((input_amplitude_array_NO24h_1st_part, input_amplitude_array_NO24h_2nd_part))"
   ]
  },
  {
   "cell_type": "code",
   "execution_count": 6,
   "metadata": {
    "collapsed": false
   },
   "outputs": [],
   "source": [
    "# for a simulated measurement time of 50 days.\n",
    "\n",
    "mean_found_amplitude_array_NO24h_50_1st_part = np.loadtxt(\"mean_found_amplitude_array_NO24h_50_0.000005_0.002_V2\")\n",
    "mean_found_amplitude_array_NO24h_50_2nd_part = np.loadtxt(\"mean_found_amplitude_array_NO24h_50_0.002_0.02_V2\")\n",
    "mean_found_amplitude_array_NO24h_50 = np.hstack((mean_found_amplitude_array_NO24h_50_1st_part,mean_found_amplitude_array_NO24h_50_2nd_part))\n",
    "stdv_found_amplitude_array_NO24h_50_1st_part = np.loadtxt(\"stdv_found_amplitude_array_NO24h_50_0.000005_0.002_V2\")\n",
    "stdv_found_amplitude_array_NO24h_50_2nd_part = np.loadtxt(\"stdv_found_amplitude_array_NO24h_50_0.002_0.02_V2\")                                                    \n",
    "stdv_found_amplitude_array_NO24h_50 = np.hstack((stdv_found_amplitude_array_NO24h_50_1st_part,stdv_found_amplitude_array_NO24h_50_2nd_part))\n",
    "relative_error_found_amplitude_NO24h_50_V2 = 100*stdv_found_amplitude_array_NO24h_50/mean_found_amplitude_array_NO24h_50\n",
    "\n",
    "mean_found_frequency_array_NO24h_50_1st_part = np.loadtxt(\"mean_found_frequency_array_NO24h_50_0.000005_0.002_V2\")\n",
    "mean_found_frequency_array_NO24h_50_2nd_part = np.loadtxt(\"mean_found_frequency_array_NO24h_50_0.002_0.02_V2\")                                                    \n",
    "mean_found_frequency_array_NO24h_50 = np.hstack((mean_found_frequency_array_NO24h_50_1st_part,mean_found_frequency_array_NO24h_50_2nd_part))\n",
    "stdv_found_frequency_array_NO24h_50_1st_part = np.loadtxt(\"stdv_found_frequency_array_NO24h_50_0.000005_0.002_V2\")\n",
    "stdv_found_frequency_array_NO24h_50_2nd_part = np.loadtxt(\"stdv_found_frequency_array_NO24h_50_0.002_0.02_V2\")                                                    \n",
    "stdv_found_frequency_array_NO24h_50 = np.hstack((stdv_found_frequency_array_NO24h_50_1st_part,stdv_found_frequency_array_NO24h_50_2nd_part))\n",
    "# If the standard deviation for the frequency is smaller than the binsize, \n",
    "# the binsize should be used as the standard deviation/error.\n",
    "measured_days = 50\n",
    "number_of_sample_points = 60*24.*measured_days\n",
    "number_of_bins = (number_of_sample_points/2)+1\n",
    "binsize = (0.5/60)/number_of_bins\n",
    "for n,i in enumerate(stdv_found_frequency_array_NO24h_50):\n",
    "    if i < binsize:\n",
    "        stdv_found_frequency_array_NO24h_50[n] = binsize\n",
    "relative_error_found_frequency_NO24h_50_V2 = 100*stdv_found_frequency_array_NO24h_50/mean_found_frequency_array_NO24h_50\n",
    "\n",
    "                                                          \n",
    "mean_found_phase_array_NO24h_50_1st_part = np.loadtxt(\"mean_found_phase_array_NO24h_50_0.000005_0.002_V2\")\n",
    "mean_found_phase_array_NO24h_50_2nd_part = np.loadtxt(\"mean_found_phase_array_NO24h_50_0.002_0.02_V2\")                                                    \n",
    "mean_found_phase_array_NO24h_50 = np.hstack((mean_found_phase_array_NO24h_50_1st_part,mean_found_phase_array_NO24h_50_2nd_part))\n",
    "stdv_found_phase_array_NO24h_50_1st_part = np.loadtxt(\"stdv_found_phase_array_NO24h_50_0.000005_0.002_V2\")\n",
    "stdv_found_phase_array_NO24h_50_2nd_part = np.loadtxt(\"stdv_found_phase_array_NO24h_50_0.002_0.02_V2\")\n",
    "stdv_found_phase_array_NO24h_50 = np.hstack((stdv_found_phase_array_NO24h_50_1st_part,stdv_found_phase_array_NO24h_50_2nd_part))\n",
    "relative_error_found_phase_NO24h_50_V2 = 100*stdv_found_phase_array_NO24h_50/mean_found_phase_array_NO24h_50\n",
    "\n"
   ]
  },
  {
   "cell_type": "code",
   "execution_count": 7,
   "metadata": {
    "collapsed": true
   },
   "outputs": [],
   "source": [
    "# 100 days. \n",
    "\n",
    "mean_found_amplitude_array_NO24h_100_1st_part = np.loadtxt(\"mean_found_amplitude_array_NO24h_100_0.000005_0.002_V2\")\n",
    "mean_found_amplitude_array_NO24h_100_2nd_part = np.loadtxt(\"mean_found_amplitude_array_NO24h_100_0.002_0.02_V2\")\n",
    "mean_found_amplitude_array_NO24h_100 = np.hstack((mean_found_amplitude_array_NO24h_100_1st_part,mean_found_amplitude_array_NO24h_100_2nd_part))\n",
    "stdv_found_amplitude_array_NO24h_100_1st_part = np.loadtxt(\"stdv_found_amplitude_array_NO24h_100_0.000005_0.002_V2\")\n",
    "stdv_found_amplitude_array_NO24h_100_2nd_part = np.loadtxt(\"stdv_found_amplitude_array_NO24h_100_0.002_0.02_V2\")\n",
    "stdv_found_amplitude_array_NO24h_100 = np.hstack((stdv_found_amplitude_array_NO24h_100_1st_part,stdv_found_amplitude_array_NO24h_100_2nd_part))\n",
    "relative_error_found_amplitude_NO24h_100_V2 = 100*stdv_found_amplitude_array_NO24h_100/mean_found_amplitude_array_NO24h_100\n",
    "\n",
    "mean_found_frequency_array_NO24h_100_1st_part = np.loadtxt(\"mean_found_frequency_array_NO24h_100_0.000005_0.002_V2\")\n",
    "mean_found_frequency_array_NO24h_100_2nd_part = np.loadtxt(\"mean_found_frequency_array_NO24h_100_0.002_0.02_V2\")\n",
    "mean_found_frequency_array_NO24h_100 = np.hstack((mean_found_frequency_array_NO24h_100_1st_part,mean_found_frequency_array_NO24h_100_2nd_part))\n",
    "stdv_found_frequency_array_NO24h_100_1st_part = np.loadtxt(\"stdv_found_frequency_array_NO24h_100_0.000005_0.002_V2\")\n",
    "stdv_found_frequency_array_NO24h_100_2nd_part = np.loadtxt(\"stdv_found_frequency_array_NO24h_100_0.002_0.02_V2\")\n",
    "stdv_found_frequency_array_NO24h_100 = np.hstack((stdv_found_frequency_array_NO24h_100_1st_part,stdv_found_frequency_array_NO24h_100_2nd_part))\n",
    "# If the standard deviation for the frequency is smaller than the binsize, \n",
    "# the binsize should be used as the standard deviation/error.\n",
    "measured_days = 100\n",
    "number_of_sample_points = 60*24.*measured_days\n",
    "number_of_bins = (number_of_sample_points/2)+1\n",
    "binsize = (0.5/60)/number_of_bins\n",
    "for n,i in enumerate(stdv_found_frequency_array_NO24h_100):\n",
    "    if i < binsize:\n",
    "        stdv_found_frequency_array_NO24h_100[n] = binsize\n",
    "relative_error_found_frequency_NO24h_100_V2 = 100*stdv_found_frequency_array_NO24h_100/mean_found_frequency_array_NO24h_100\n",
    "\n",
    "mean_found_phase_array_NO24h_100_1st_part = np.loadtxt(\"mean_found_phase_array_NO24h_100_0.000005_0.002_V2\")\n",
    "mean_found_phase_array_NO24h_100_2nd_part = np.loadtxt(\"mean_found_phase_array_NO24h_100_0.002_0.02_V2\")\n",
    "mean_found_phase_array_NO24h_100 = np.hstack((mean_found_phase_array_NO24h_100_1st_part,mean_found_phase_array_NO24h_100_2nd_part))\n",
    "stdv_found_phase_array_NO24h_100_1st_part = np.loadtxt(\"stdv_found_phase_array_NO24h_100_0.000005_0.002_V2\")\n",
    "stdv_found_phase_array_NO24h_100_2nd_part = np.loadtxt(\"stdv_found_phase_array_NO24h_100_0.002_0.02_V2\")\n",
    "stdv_found_phase_array_NO24h_100 = np.hstack((stdv_found_phase_array_NO24h_100_1st_part,stdv_found_phase_array_NO24h_100_2nd_part))\n",
    "relative_error_found_phase_NO24h_100_V2 = 100*stdv_found_phase_array_NO24h_100/mean_found_phase_array_NO24h_100\n"
   ]
  },
  {
   "cell_type": "code",
   "execution_count": 8,
   "metadata": {
    "collapsed": true
   },
   "outputs": [],
   "source": [
    "# 150 days.\n",
    "\n",
    "mean_found_amplitude_array_NO24h_150_1st_part = np.loadtxt(\"mean_found_amplitude_array_NO24h_150_0.000005_0.002_V2\")\n",
    "mean_found_amplitude_array_NO24h_150_2nd_part = np.loadtxt(\"mean_found_amplitude_array_NO24h_150_0.002_0.02_V2\")\n",
    "mean_found_amplitude_array_NO24h_150 = np.hstack((mean_found_amplitude_array_NO24h_150_1st_part,mean_found_amplitude_array_NO24h_150_2nd_part))\n",
    "stdv_found_amplitude_array_NO24h_150_1st_part = np.loadtxt(\"stdv_found_amplitude_array_NO24h_150_0.000005_0.002_V2\")\n",
    "stdv_found_amplitude_array_NO24h_150_2nd_part = np.loadtxt(\"stdv_found_amplitude_array_NO24h_150_0.002_0.02_V2\")\n",
    "stdv_found_amplitude_array_NO24h_150 = np.hstack((stdv_found_amplitude_array_NO24h_150_1st_part,stdv_found_amplitude_array_NO24h_150_2nd_part))\n",
    "relative_error_found_amplitude_NO24h_150_V2 = 100*stdv_found_amplitude_array_NO24h_150/mean_found_amplitude_array_NO24h_150\n",
    "\n",
    "mean_found_frequency_array_NO24h_150_1st_part = np.loadtxt(\"mean_found_frequency_array_NO24h_150_0.000005_0.002_V2\")\n",
    "mean_found_frequency_array_NO24h_150_2nd_part = np.loadtxt(\"mean_found_frequency_array_NO24h_150_0.002_0.02_V2\")\n",
    "mean_found_frequency_array_NO24h_150 = np.hstack((mean_found_frequency_array_NO24h_150_1st_part,mean_found_frequency_array_NO24h_150_2nd_part))\n",
    "stdv_found_frequency_array_NO24h_150_1st_part = np.loadtxt(\"stdv_found_frequency_array_NO24h_150_0.000005_0.002_V2\")\n",
    "stdv_found_frequency_array_NO24h_150_2nd_part = np.loadtxt(\"stdv_found_frequency_array_NO24h_150_0.002_0.02_V2\")\n",
    "stdv_found_frequency_array_NO24h_150 = np.hstack((stdv_found_frequency_array_NO24h_150_1st_part,stdv_found_frequency_array_NO24h_150_2nd_part))\n",
    "# If the standard deviation for the frequency is smaller than the binsize, \n",
    "# the binsize should be used as the standard deviation/error.\n",
    "measured_days = 150\n",
    "number_of_sample_points = 60*24.*measured_days\n",
    "number_of_bins = (number_of_sample_points/2)+1\n",
    "binsize = (0.5/60)/number_of_bins\n",
    "for n,i in enumerate(stdv_found_frequency_array_NO24h_150):\n",
    "    if i < binsize:\n",
    "        stdv_found_frequency_array_NO24h_150[n] = binsize\n",
    "relative_error_found_frequency_NO24h_150_V2 = 100*stdv_found_frequency_array_NO24h_150/mean_found_frequency_array_NO24h_150\n",
    "\n",
    "mean_found_phase_array_NO24h_150_1st_part = np.loadtxt(\"mean_found_phase_array_NO24h_150_0.000005_0.002_V2\")\n",
    "mean_found_phase_array_NO24h_150_2nd_part = np.loadtxt(\"mean_found_phase_array_NO24h_150_0.002_0.02_V2\")\n",
    "mean_found_phase_array_NO24h_150 = np.hstack((mean_found_phase_array_NO24h_150_1st_part,mean_found_phase_array_NO24h_150_2nd_part))\n",
    "stdv_found_phase_array_NO24h_150_1st_part = np.loadtxt(\"stdv_found_phase_array_NO24h_150_0.000005_0.002_V2\")\n",
    "stdv_found_phase_array_NO24h_150_2nd_part = np.loadtxt(\"stdv_found_phase_array_NO24h_150_0.002_0.02_V2\")\n",
    "stdv_found_phase_array_NO24h_150 = np.hstack((stdv_found_phase_array_NO24h_150_1st_part,stdv_found_phase_array_NO24h_150_2nd_part))\n",
    "relative_error_found_phase_NO24h_150_V2 = 100*stdv_found_phase_array_NO24h_150/mean_found_phase_array_NO24h_150\n"
   ]
  },
  {
   "cell_type": "code",
   "execution_count": 9,
   "metadata": {
    "collapsed": false
   },
   "outputs": [
    {
     "ename": "IOError",
     "evalue": "[Errno 2] No such file or directory: 'mean_found_amplitude_array_NO24h_200_0.000005_0.002_V2'",
     "output_type": "error",
     "traceback": [
      "\u001b[1;31m---------------------------------------------------------------------------\u001b[0m",
      "\u001b[1;31mIOError\u001b[0m                                   Traceback (most recent call last)",
      "\u001b[1;32m<ipython-input-9-f06b6eb4a277>\u001b[0m in \u001b[0;36m<module>\u001b[1;34m()\u001b[0m\n\u001b[0;32m      1\u001b[0m \u001b[1;31m# 200 days.\u001b[0m\u001b[1;33m\u001b[0m\u001b[1;33m\u001b[0m\u001b[0m\n\u001b[0;32m      2\u001b[0m \u001b[1;33m\u001b[0m\u001b[0m\n\u001b[1;32m----> 3\u001b[1;33m \u001b[0mmean_found_amplitude_array_NO24h_200_1st_part\u001b[0m \u001b[1;33m=\u001b[0m \u001b[0mnp\u001b[0m\u001b[1;33m.\u001b[0m\u001b[0mloadtxt\u001b[0m\u001b[1;33m(\u001b[0m\u001b[1;34m\"mean_found_amplitude_array_NO24h_200_0.000005_0.002_V2\"\u001b[0m\u001b[1;33m)\u001b[0m\u001b[1;33m\u001b[0m\u001b[0m\n\u001b[0m\u001b[0;32m      4\u001b[0m \u001b[0mmean_found_amplitude_array_NO24h_200_2nd_part\u001b[0m \u001b[1;33m=\u001b[0m \u001b[0mnp\u001b[0m\u001b[1;33m.\u001b[0m\u001b[0mloadtxt\u001b[0m\u001b[1;33m(\u001b[0m\u001b[1;34m\"mean_found_amplitude_array_NO24h_200_0.002_0.02_V2\"\u001b[0m\u001b[1;33m)\u001b[0m\u001b[1;33m\u001b[0m\u001b[0m\n\u001b[0;32m      5\u001b[0m \u001b[0mmean_found_amplitude_array_NO24h_200\u001b[0m \u001b[1;33m=\u001b[0m \u001b[0mnp\u001b[0m\u001b[1;33m.\u001b[0m\u001b[0mhstack\u001b[0m\u001b[1;33m(\u001b[0m\u001b[1;33m(\u001b[0m\u001b[0mmean_found_amplitude_array_NO24h_200_1st_part\u001b[0m\u001b[1;33m,\u001b[0m\u001b[0mmean_found_amplitude_array_NO24h_200_2nd_part\u001b[0m\u001b[1;33m)\u001b[0m\u001b[1;33m)\u001b[0m\u001b[1;33m\u001b[0m\u001b[0m\n",
      "\u001b[1;32mC:\\Users\\Dorine\\Anaconda\\lib\\site-packages\\numpy\\lib\\npyio.pyc\u001b[0m in \u001b[0;36mloadtxt\u001b[1;34m(fname, dtype, comments, delimiter, converters, skiprows, usecols, unpack, ndmin)\u001b[0m\n\u001b[0;32m    736\u001b[0m                 \u001b[0mfh\u001b[0m \u001b[1;33m=\u001b[0m \u001b[0miter\u001b[0m\u001b[1;33m(\u001b[0m\u001b[0mbz2\u001b[0m\u001b[1;33m.\u001b[0m\u001b[0mBZ2File\u001b[0m\u001b[1;33m(\u001b[0m\u001b[0mfname\u001b[0m\u001b[1;33m)\u001b[0m\u001b[1;33m)\u001b[0m\u001b[1;33m\u001b[0m\u001b[0m\n\u001b[0;32m    737\u001b[0m             \u001b[1;32melif\u001b[0m \u001b[0msys\u001b[0m\u001b[1;33m.\u001b[0m\u001b[0mversion_info\u001b[0m\u001b[1;33m[\u001b[0m\u001b[1;36m0\u001b[0m\u001b[1;33m]\u001b[0m \u001b[1;33m==\u001b[0m \u001b[1;36m2\u001b[0m\u001b[1;33m:\u001b[0m\u001b[1;33m\u001b[0m\u001b[0m\n\u001b[1;32m--> 738\u001b[1;33m                 \u001b[0mfh\u001b[0m \u001b[1;33m=\u001b[0m \u001b[0miter\u001b[0m\u001b[1;33m(\u001b[0m\u001b[0mopen\u001b[0m\u001b[1;33m(\u001b[0m\u001b[0mfname\u001b[0m\u001b[1;33m,\u001b[0m \u001b[1;34m'U'\u001b[0m\u001b[1;33m)\u001b[0m\u001b[1;33m)\u001b[0m\u001b[1;33m\u001b[0m\u001b[0m\n\u001b[0m\u001b[0;32m    739\u001b[0m             \u001b[1;32melse\u001b[0m\u001b[1;33m:\u001b[0m\u001b[1;33m\u001b[0m\u001b[0m\n\u001b[0;32m    740\u001b[0m                 \u001b[0mfh\u001b[0m \u001b[1;33m=\u001b[0m \u001b[0miter\u001b[0m\u001b[1;33m(\u001b[0m\u001b[0mopen\u001b[0m\u001b[1;33m(\u001b[0m\u001b[0mfname\u001b[0m\u001b[1;33m)\u001b[0m\u001b[1;33m)\u001b[0m\u001b[1;33m\u001b[0m\u001b[0m\n",
      "\u001b[1;31mIOError\u001b[0m: [Errno 2] No such file or directory: 'mean_found_amplitude_array_NO24h_200_0.000005_0.002_V2'"
     ]
    }
   ],
   "source": [
    "# 200 days. \n",
    "\n",
    "mean_found_amplitude_array_NO24h_200_1st_part = np.loadtxt(\"mean_found_amplitude_array_NO24h_200_0.000005_0.002_V2\")\n",
    "mean_found_amplitude_array_NO24h_200_2nd_part = np.loadtxt(\"mean_found_amplitude_array_NO24h_200_0.002_0.02_V2\")\n",
    "mean_found_amplitude_array_NO24h_200 = np.hstack((mean_found_amplitude_array_NO24h_200_1st_part,mean_found_amplitude_array_NO24h_200_2nd_part))\n",
    "stdv_found_amplitude_array_NO24h_200_1st_part = np.loadtxt(\"stdv_found_amplitude_array_NO24h_200_0.000005_0.002_V2\")\n",
    "stdv_found_amplitude_array_NO24h_200_2nd_part = np.loadtxt(\"stdv_found_amplitude_array_NO24h_200_0.002_0.02_V2\")\n",
    "stdv_found_amplitude_array_NO24h_200 = np.hstack((stdv_found_amplitude_array_NO24h_200_1st_part,stdv_found_amplitude_array_NO24h_200_2nd_part))\n",
    "relative_error_found_amplitude_NO24h_200_V2 = 100*stdv_found_amplitude_array_NO24h_200/mean_found_amplitude_array_NO24h_200\n",
    "\n",
    "mean_found_frequency_array_NO24h_200_1st_part = np.loadtxt(\"mean_found_frequency_array_NO24h_200_0.000005_0.002_V2\")\n",
    "mean_found_frequency_array_NO24h_200_2nd_part = np.loadtxt(\"mean_found_frequency_array_NO24h_200_0.002_0.02_V2\")\n",
    "mean_found_frequency_array_NO24h_200 = np.hstack((mean_found_frequency_array_NO24h_200_1st_part,mean_found_frequency_array_NO24h_200_2nd_part))\n",
    "stdv_found_frequency_array_NO24h_200_1st_part = np.loadtxt(\"stdv_found_frequency_array_NO24h_200_0.000005_0.002_V2\")\n",
    "stdv_found_frequency_array_NO24h_200_2nd_part = np.loadtxt(\"stdv_found_frequency_array_NO24h_200_0.002_0.02_V2\")\n",
    "stdv_found_frequency_array_NO24h_200 = np.hstack((stdv_found_frequency_array_NO24h_200_1st_part,stdv_found_frequency_array_NO24h_200_2nd_part))\n",
    "# If the standard deviation for the frequency is smaller than the binsize, \n",
    "# the binsize should be used as the standard deviation/error.\n",
    "measured_days = 200\n",
    "number_of_sample_points = 60*24.*measured_days\n",
    "number_of_bins = (number_of_sample_points/2)+1\n",
    "binsize = (0.5/60)/number_of_bins\n",
    "for n,i in enumerate(stdv_found_frequency_array_NO24h_200):\n",
    "    if i < binsize:\n",
    "        stdv_found_frequency_array_NO24h_200[n] = binsize\n",
    "relative_error_found_frequency_NO24h_200_V2 = 100*stdv_found_frequency_array_NO24h_200/mean_found_frequency_array_NO24h_200\n",
    "\n",
    "mean_found_phase_array_NO24h_200_1st_part = np.loadtxt(\"mean_found_phase_array_NO24h_200_0.000005_0.002_V2\")\n",
    "mean_found_phase_array_NO24h_200_2nd_part = np.loadtxt(\"mean_found_phase_array_NO24h_200_0.002_0.02_V2\")\n",
    "mean_found_phase_array_NO24h_200 = np.hstack((mean_found_phase_array_NO24h_200_1st_part,mean_found_phase_array_NO24h_200_2nd_part))\n",
    "stdv_found_phase_array_NO24h_200_1st_part = np.loadtxt(\"stdv_found_phase_array_NO24h_200_0.000005_0.002_V2\")\n",
    "stdv_found_phase_array_NO24h_200_2nd_part = np.loadtxt(\"stdv_found_phase_array_NO24h_200_0.002_0.02_V2\")\n",
    "stdv_found_phase_array_NO24h_200 = np.hstack((stdv_found_phase_array_NO24h_200_1st_part,stdv_found_phase_array_NO24h_200_2nd_part))\n",
    "relative_error_found_phase_NO24h_200_V2 = 100*stdv_found_phase_array_NO24h_200/mean_found_phase_array_NO24h_200"
   ]
  },
  {
   "cell_type": "code",
   "execution_count": 10,
   "metadata": {
    "collapsed": false
   },
   "outputs": [
    {
     "ename": "IOError",
     "evalue": "[Errno 2] No such file or directory: 'mean_found_amplitude_array_NO24h_300_0.000005_0.002_V2'",
     "output_type": "error",
     "traceback": [
      "\u001b[1;31m---------------------------------------------------------------------------\u001b[0m",
      "\u001b[1;31mIOError\u001b[0m                                   Traceback (most recent call last)",
      "\u001b[1;32m<ipython-input-10-1ace9a73cd59>\u001b[0m in \u001b[0;36m<module>\u001b[1;34m()\u001b[0m\n\u001b[0;32m      1\u001b[0m \u001b[1;31m# 300 days.\u001b[0m\u001b[1;33m\u001b[0m\u001b[1;33m\u001b[0m\u001b[0m\n\u001b[0;32m      2\u001b[0m \u001b[1;33m\u001b[0m\u001b[0m\n\u001b[1;32m----> 3\u001b[1;33m \u001b[0mmean_found_amplitude_array_NO24h_300_1st_part\u001b[0m \u001b[1;33m=\u001b[0m \u001b[0mnp\u001b[0m\u001b[1;33m.\u001b[0m\u001b[0mloadtxt\u001b[0m\u001b[1;33m(\u001b[0m\u001b[1;34m\"mean_found_amplitude_array_NO24h_300_0.000005_0.002_V2\"\u001b[0m\u001b[1;33m)\u001b[0m\u001b[1;33m\u001b[0m\u001b[0m\n\u001b[0m\u001b[0;32m      4\u001b[0m \u001b[0mmean_found_amplitude_array_NO24h_300_2nd_part\u001b[0m \u001b[1;33m=\u001b[0m \u001b[0mnp\u001b[0m\u001b[1;33m.\u001b[0m\u001b[0mloadtxt\u001b[0m\u001b[1;33m(\u001b[0m\u001b[1;34m\"mean_found_amplitude_array_NO24h_300_0.002_0.02_V2\"\u001b[0m\u001b[1;33m)\u001b[0m\u001b[1;33m\u001b[0m\u001b[0m\n\u001b[0;32m      5\u001b[0m \u001b[0mmean_found_amplitude_array_NO24h_300\u001b[0m \u001b[1;33m=\u001b[0m \u001b[0mnp\u001b[0m\u001b[1;33m.\u001b[0m\u001b[0mhstack\u001b[0m\u001b[1;33m(\u001b[0m\u001b[1;33m(\u001b[0m\u001b[0mmean_found_amplitude_array_NO24h_300_1st_part\u001b[0m\u001b[1;33m,\u001b[0m\u001b[0mmean_found_amplitude_array_NO24h_300_2nd_part\u001b[0m\u001b[1;33m)\u001b[0m\u001b[1;33m)\u001b[0m\u001b[1;33m\u001b[0m\u001b[0m\n",
      "\u001b[1;32mC:\\Users\\Dorine\\Anaconda\\lib\\site-packages\\numpy\\lib\\npyio.pyc\u001b[0m in \u001b[0;36mloadtxt\u001b[1;34m(fname, dtype, comments, delimiter, converters, skiprows, usecols, unpack, ndmin)\u001b[0m\n\u001b[0;32m    736\u001b[0m                 \u001b[0mfh\u001b[0m \u001b[1;33m=\u001b[0m \u001b[0miter\u001b[0m\u001b[1;33m(\u001b[0m\u001b[0mbz2\u001b[0m\u001b[1;33m.\u001b[0m\u001b[0mBZ2File\u001b[0m\u001b[1;33m(\u001b[0m\u001b[0mfname\u001b[0m\u001b[1;33m)\u001b[0m\u001b[1;33m)\u001b[0m\u001b[1;33m\u001b[0m\u001b[0m\n\u001b[0;32m    737\u001b[0m             \u001b[1;32melif\u001b[0m \u001b[0msys\u001b[0m\u001b[1;33m.\u001b[0m\u001b[0mversion_info\u001b[0m\u001b[1;33m[\u001b[0m\u001b[1;36m0\u001b[0m\u001b[1;33m]\u001b[0m \u001b[1;33m==\u001b[0m \u001b[1;36m2\u001b[0m\u001b[1;33m:\u001b[0m\u001b[1;33m\u001b[0m\u001b[0m\n\u001b[1;32m--> 738\u001b[1;33m                 \u001b[0mfh\u001b[0m \u001b[1;33m=\u001b[0m \u001b[0miter\u001b[0m\u001b[1;33m(\u001b[0m\u001b[0mopen\u001b[0m\u001b[1;33m(\u001b[0m\u001b[0mfname\u001b[0m\u001b[1;33m,\u001b[0m \u001b[1;34m'U'\u001b[0m\u001b[1;33m)\u001b[0m\u001b[1;33m)\u001b[0m\u001b[1;33m\u001b[0m\u001b[0m\n\u001b[0m\u001b[0;32m    739\u001b[0m             \u001b[1;32melse\u001b[0m\u001b[1;33m:\u001b[0m\u001b[1;33m\u001b[0m\u001b[0m\n\u001b[0;32m    740\u001b[0m                 \u001b[0mfh\u001b[0m \u001b[1;33m=\u001b[0m \u001b[0miter\u001b[0m\u001b[1;33m(\u001b[0m\u001b[0mopen\u001b[0m\u001b[1;33m(\u001b[0m\u001b[0mfname\u001b[0m\u001b[1;33m)\u001b[0m\u001b[1;33m)\u001b[0m\u001b[1;33m\u001b[0m\u001b[0m\n",
      "\u001b[1;31mIOError\u001b[0m: [Errno 2] No such file or directory: 'mean_found_amplitude_array_NO24h_300_0.000005_0.002_V2'"
     ]
    }
   ],
   "source": [
    "# 300 days.\n",
    "\n",
    "mean_found_amplitude_array_NO24h_300_1st_part = np.loadtxt(\"mean_found_amplitude_array_NO24h_300_0.000005_0.002_V2\")\n",
    "mean_found_amplitude_array_NO24h_300_2nd_part = np.loadtxt(\"mean_found_amplitude_array_NO24h_300_0.002_0.02_V2\")\n",
    "mean_found_amplitude_array_NO24h_300 = np.hstack((mean_found_amplitude_array_NO24h_300_1st_part,mean_found_amplitude_array_NO24h_300_2nd_part))\n",
    "stdv_found_amplitude_array_NO24h_300_1st_part = np.loadtxt(\"stdv_found_amplitude_array_NO24h_300_0.000005_0.002_V2\")\n",
    "stdv_found_amplitude_array_NO24h_300_2nd_part = np.loadtxt(\"stdv_found_amplitude_array_NO24h_300_0.002_0.02_V2\")\n",
    "stdv_found_amplitude_array_NO24h_300 = np.hstack((stdv_found_amplitude_array_NO24h_300_1st_part,stdv_found_amplitude_array_NO24h_300_2nd_part))\n",
    "relative_error_found_amplitude_NO24h_300_V2 = 100*stdv_found_amplitude_array_NO24h_300/mean_found_amplitude_array_NO24h_300\n",
    "\n",
    "mean_found_frequency_array_NO24h_300_1st_part = np.loadtxt(\"mean_found_frequency_array_NO24h_300_0.000005_0.002_V2\")\n",
    "mean_found_frequency_array_NO24h_300_2nd_part = np.loadtxt(\"mean_found_frequency_array_NO24h_300_0.002_0.02_V2\")\n",
    "mean_found_frequency_array_NO24h_300 = np.hstack((mean_found_frequency_array_NO24h_300_1st_part,mean_found_frequency_array_NO24h_300_2nd_part))\n",
    "stdv_found_frequency_array_NO24h_300_1st_part = np.loadtxt(\"stdv_found_frequency_array_NO24h_300_0.000005_0.002_V2\")\n",
    "stdv_found_frequency_array_NO24h_300_2nd_part = np.loadtxt(\"stdv_found_frequency_array_NO24h_300_0.002_0.02_V2\")\n",
    "stdv_found_frequency_array_NO24h_300 = np.hstack((stdv_found_frequency_array_NO24h_300_1st_part,stdv_found_frequency_array_NO24h_300_2nd_part))\n",
    "# If the standard deviation for the frequency is smaller than the binsize, \n",
    "# the binsize should be used as the standard deviation/error.\n",
    "measured_days = 300\n",
    "number_of_sample_points = 60*24.*measured_days\n",
    "number_of_bins = (number_of_sample_points/2)+1\n",
    "binsize = (0.5/60)/number_of_bins\n",
    "for n,i in enumerate(stdv_found_frequency_array_NO24h_300):\n",
    "    if i < binsize:\n",
    "        stdv_found_frequency_array_NO24h_300[n] = binsize\n",
    "relative_error_found_frequency_NO24h_300_V2 = 100*stdv_found_frequency_array_NO24h_300/mean_found_frequency_array_NO24h_300\n",
    "\n",
    "mean_found_phase_array_NO24h_300_1st_part = np.loadtxt(\"mean_found_phase_array_NO24h_300_0.000005_0.002_V2\")\n",
    "mean_found_phase_array_NO24h_300_2nd_part = np.loadtxt(\"mean_found_phase_array_NO24h_300_0.002_0.02_V2\")\n",
    "mean_found_phase_array_NO24h_300 = np.hstack((mean_found_phase_array_NO24h_300_1st_part,mean_found_phase_array_NO24h_300_2nd_part))\n",
    "stdv_found_phase_array_NO24h_300_1st_part = np.loadtxt(\"stdv_found_phase_array_NO24h_300_0.000005_0.002_V2\")\n",
    "stdv_found_phase_array_NO24h_300_2nd_part = np.loadtxt(\"stdv_found_phase_array_NO24h_300_0.002_0.02_V2\")\n",
    "stdv_found_phase_array_NO24h_300 = np.hstack((stdv_found_phase_array_NO24h_300_1st_part,stdv_found_phase_array_NO24h_300_2nd_part))\n",
    "relative_error_found_phase_300_NO24h_V2 = 100*stdv_found_phase_array_NO24h_300/mean_found_phase_array_NO24h_300"
   ]
  },
  {
   "cell_type": "code",
   "execution_count": 7,
   "metadata": {
    "collapsed": true
   },
   "outputs": [],
   "source": [
    "# save files to use in step3_NO_24h_arrays_..._V2\n",
    "np.savetxt('mean_found_amplitude_array_NO24h_50_V2', mean_found_amplitude_array_NO24h_50)\n",
    "np.savetxt('stdv_found_amplitude_array_NO24h_50_V2', stdv_found_amplitude_array_NO24h_50)\n",
    "np.savetxt('mean_found_frequency_array_NO24h_50_V2', mean_found_frequency_array_NO24h_50)\n",
    "np.savetxt('stdv_found_frequency_array_NO24h_50_V2', stdv_found_frequency_array_NO24h_50)\n",
    "np.savetxt('mean_found_phase_array_NO24h_50_V2', mean_found_phase_array_NO24h_50)\n",
    "np.savetxt('stdv_found_phase_array_NO24h_50_V2', stdv_found_phase_array_NO24h_50)"
   ]
  },
  {
   "cell_type": "code",
   "execution_count": 8,
   "metadata": {
    "collapsed": true
   },
   "outputs": [],
   "source": [
    "np.savetxt('mean_found_amplitude_array_NO24h_100_V2', mean_found_amplitude_array_NO24h_100)\n",
    "np.savetxt('stdv_found_amplitude_array_NO24h_100_V2', stdv_found_amplitude_array_NO24h_100)\n",
    "np.savetxt('mean_found_frequency_array_NO24h_100_V2', mean_found_frequency_array_NO24h_100)\n",
    "np.savetxt('stdv_found_frequency_array_NO24h_100_V2', stdv_found_frequency_array_NO24h_100)\n",
    "np.savetxt('mean_found_phase_array_NO24h_100_V2', mean_found_phase_array_NO24h_100)\n",
    "np.savetxt('stdv_found_phase_array_NO24h_100_V2', stdv_found_phase_array_NO24h_100)"
   ]
  },
  {
   "cell_type": "code",
   "execution_count": 9,
   "metadata": {
    "collapsed": false
   },
   "outputs": [],
   "source": [
    "np.savetxt('mean_found_amplitude_array_NO24h_150_V2', mean_found_amplitude_array_NO24h_150)\n",
    "np.savetxt('stdv_found_amplitude_array_NO24h_150_V2', stdv_found_amplitude_array_NO24h_150)\n",
    "np.savetxt('mean_found_frequency_array_NO24h_150_V2', mean_found_frequency_array_NO24h_150)\n",
    "np.savetxt('stdv_found_frequency_array_NO24h_150_V2', stdv_found_frequency_array_NO24h_150)\n",
    "np.savetxt('mean_found_phase_array_NO24h_150_V2', mean_found_phase_array_NO24h_150)\n",
    "np.savetxt('stdv_found_phase_array_NO24h_150_V2', stdv_found_phase_array_NO24h_150)"
   ]
  },
  {
   "cell_type": "code",
   "execution_count": 10,
   "metadata": {
    "collapsed": false
   },
   "outputs": [],
   "source": [
    "np.savetxt('input_amplitude_array_NO24h_V2', input_amplitude_array_NO24h_V2)\n",
    "\n",
    "np.savetxt('relative_error_found_amplitude_NO24h_50_V2', relative_error_found_amplitude_NO24h_50_V2)\n",
    "np.savetxt('relative_error_found_frequency_NO24h_50_V2', relative_error_found_frequency_NO24h_50_V2)\n",
    "np.savetxt('relative_error_found_phase_NO24h_50_V2', relative_error_found_phase_NO24h_50_V2)"
   ]
  },
  {
   "cell_type": "code",
   "execution_count": 11,
   "metadata": {
    "collapsed": true
   },
   "outputs": [],
   "source": [
    "np.savetxt('relative_error_found_amplitude_NO24h_100_V2', relative_error_found_amplitude_NO24h_100_V2)\n",
    "np.savetxt('relative_error_found_frequency_NO24h_100_V2', relative_error_found_frequency_NO24h_100_V2)\n",
    "np.savetxt('relative_error_found_phase_NO24h_100_V2', relative_error_found_phase_NO24h_100_V2)"
   ]
  },
  {
   "cell_type": "code",
   "execution_count": 12,
   "metadata": {
    "collapsed": false
   },
   "outputs": [],
   "source": [
    "np.savetxt('relative_error_found_amplitude_NO24h_150_V2', relative_error_found_amplitude_NO24h_150_V2)\n",
    "np.savetxt('relative_error_found_frequency_NO24h_150_V2', relative_error_found_frequency_NO24h_150_V2)\n",
    "np.savetxt('relative_error_found_phase_NO24h_150_V2', relative_error_found_phase_NO24h_150_V2)"
   ]
  },
  {
   "cell_type": "code",
   "execution_count": null,
   "metadata": {
    "collapsed": true
   },
   "outputs": [],
   "source": []
  }
 ],
 "metadata": {
  "kernelspec": {
   "display_name": "Python 2",
   "language": "python",
   "name": "python2"
  },
  "language_info": {
   "codemirror_mode": {
    "name": "ipython",
    "version": 2
   },
   "file_extension": ".py",
   "mimetype": "text/x-python",
   "name": "python",
   "nbconvert_exporter": "python",
   "pygments_lexer": "ipython2",
   "version": "2.7.10"
  }
 },
 "nbformat": 4,
 "nbformat_minor": 0
}
