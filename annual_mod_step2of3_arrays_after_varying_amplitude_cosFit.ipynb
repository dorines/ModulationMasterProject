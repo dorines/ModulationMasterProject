{
 "cells": [
  {
   "cell_type": "code",
   "execution_count": 13,
   "metadata": {
    "collapsed": false
   },
   "outputs": [],
   "source": [
    "# Step 2 of 3 for annual modulation\n",
    "\n",
    "import numpy as np\n",
    "import matplotlib.pyplot as plt\n",
    "import math\n",
    "#from tempfile import TemporaryFile\n",
    "\n",
    "A0 = 37\n",
    "\n",
    "# saving arrays: mean_found_amplitude/phase/frequency_array, stdv_found_amplitude/phase/frequency_array \n",
    "# from the notebook Sim_radioactive_decay_24h_FFT_loop_varying_amplitude\n",
    "\n",
    "annual_mod_input_amplitude_CosFit_005_01 = np.loadtxt(\"annual_mod_input_amplitude_CosFit_0.005_0.01\")\n",
    "annual_mod_input_amplitude_CosFit_0_005 = np.loadtxt(\"annual_mod_input_amplitude_CosFit_0.0005_0.005\")\n",
    "annual_mod_input_amplitude_CosFit = np.hstack((annual_mod_input_amplitude_CosFit_0_005, annual_mod_input_amplitude_CosFit_005_01))"
   ]
  },
  {
   "cell_type": "code",
   "execution_count": 2,
   "metadata": {
    "collapsed": false
   },
   "outputs": [],
   "source": [
    "# for a simulated measurement time of 300 days. With Cosine fit \n",
    "\n",
    "mean_found_amplitude_CosFit_annual_mod_005_01_300 = np.loadtxt(\"annual_mod_mean_found_amplitude_CosFit_300_0.005_0.01_300runs\")\n",
    "mean_found_amplitude_CosFit_annual_mod_0_005_300 = np.loadtxt(\"annual_mod_mean_found_amplitude_CosFit_300_0.0_0.005_300runs\")\n",
    "mean_found_amplitude_CosFit_annual_mod_300 = np.hstack((mean_found_amplitude_CosFit_annual_mod_0_005_300, mean_found_amplitude_CosFit_annual_mod_005_01_300))\n",
    "stdv_found_amplitude_CosFit_annual_mod_005_01_300 = np.loadtxt(\"annual_mod_stdv_found_amplitude_CosFit_300_0.005_0.01_300runs\")\n",
    "stdv_found_amplitude_CosFit_annual_mod_0_005_300 = np.loadtxt(\"annual_mod_stdv_found_amplitude_CosFit_300_0.0_0.005_300runs\")                                                    \n",
    "stdv_found_amplitude_CosFit_annual_mod_300 = np.hstack((stdv_found_amplitude_CosFit_annual_mod_0_005_300, stdv_found_amplitude_CosFit_annual_mod_005_01_300))\n",
    "relative_error_found_amplitude_annual_mod_300_CosFit = 100*stdv_found_amplitude_CosFit_annual_mod_300/mean_found_amplitude_CosFit_annual_mod_300\n",
    "\n",
    "mean_found_frequency_CosFit_annual_mod_005_01_300 = np.loadtxt(\"annual_mod_mean_found_frequency_CosFit_300_0.005_0.01_300runs\")\n",
    "mean_found_frequency_CosFit_annual_mod_0_005_300 = np.loadtxt(\"annual_mod_mean_found_frequency_CosFit_300_0.0_0.005_300runs\")                                                    \n",
    "mean_found_frequency_CosFit_annual_mod_300 = np.hstack((mean_found_frequency_CosFit_annual_mod_0_005_300, mean_found_frequency_CosFit_annual_mod_005_01_300))\n",
    "stdv_found_frequency_CosFit_annual_mod_005_01_300 = np.loadtxt(\"annual_mod_stdv_found_frequency_CosFit_300_0.005_0.01_300runs\")\n",
    "stdv_found_frequency_CosFit_annual_mod_0_005_300 = np.loadtxt(\"annual_mod_stdv_found_frequency_CosFit_300_0.0_0.005_300runs\")                                                    \n",
    "stdv_found_frequency_CosFit_annual_mod_300 = np.hstack((stdv_found_frequency_CosFit_annual_mod_0_005_300, stdv_found_frequency_CosFit_annual_mod_005_01_300))\n",
    "relative_error_found_frequency_annual_mod_300_CosFit = 100*stdv_found_frequency_CosFit_annual_mod_300/mean_found_frequency_CosFit_annual_mod_300\n",
    "\n",
    "mean_found_phase_CosFit_annual_mod_005_01_300 = np.loadtxt(\"annual_mod_mean_found_phase_CosFit_300_0.005_0.01_300runs\")\n",
    "mean_found_phase_CosFit_annual_mod_0_005_300 = np.loadtxt(\"annual_mod_mean_found_phase_CosFit_300_0.0_0.005_300runs\")                                                    \n",
    "mean_found_phase_CosFit_annual_mod_300 = np.hstack((mean_found_phase_CosFit_annual_mod_0_005_300, mean_found_phase_CosFit_annual_mod_005_01_300))\n",
    "stdv_found_phase_CosFit_annual_mod_005_01_300 = np.loadtxt(\"annual_mod_stdv_found_phase_CosFit_300_0.005_0.01_300runs\")\n",
    "stdv_found_phase_CosFit_annual_mod_0_005_300 = np.loadtxt(\"annual_mod_stdv_found_phase_CosFit_300_0.0_0.005_300runs\")\n",
    "stdv_found_phase_CosFit_annual_mod_300 = np.hstack((stdv_found_phase_CosFit_annual_mod_0_005_300, stdv_found_phase_CosFit_annual_mod_005_01_300))\n",
    "relative_error_found_phase_annual_mod_300_CosFit = 100*stdv_found_phase_CosFit_annual_mod_300/mean_found_phase_CosFit_annual_mod_300\n"
   ]
  },
  {
   "cell_type": "code",
   "execution_count": 5,
   "metadata": {
    "collapsed": false
   },
   "outputs": [],
   "source": [
    "# for a simulated measurement time of 400 days. With Cosine fit \n",
    "                                                               \n",
    "mean_found_amplitude_CosFit_annual_mod_005_01_400 = np.loadtxt(\"annual_mod_mean_found_amplitude_CosFit_400_0.005_0.01_300runs_V3\")\n",
    "mean_found_amplitude_CosFit_annual_mod_0_005_400 = np.loadtxt(\"annual_mod_mean_found_amplitude_CosFit_400_0.0005_0.005_300runs_V3\")\n",
    "mean_found_amplitude_CosFit_annual_mod_400 = np.hstack((mean_found_amplitude_CosFit_annual_mod_0_005_400, mean_found_amplitude_CosFit_annual_mod_005_01_400))\n",
    "stdv_found_amplitude_CosFit_annual_mod_005_01_400 = np.loadtxt(\"annual_mod_stdv_found_amplitude_CosFit_400_0.005_0.01_300runs_V3\")\n",
    "stdv_found_amplitude_CosFit_annual_mod_0_005_400 = np.loadtxt(\"annual_mod_stdv_found_amplitude_CosFit_400_0.0005_0.005_300runs_V3\")                                                    \n",
    "stdv_found_amplitude_CosFit_annual_mod_400 = np.hstack((stdv_found_amplitude_CosFit_annual_mod_0_005_400, stdv_found_amplitude_CosFit_annual_mod_005_01_400))\n",
    "relative_error_found_amplitude_annual_mod_400_CosFit = 100*stdv_found_amplitude_CosFit_annual_mod_400/mean_found_amplitude_CosFit_annual_mod_400\n",
    "\n",
    "mean_found_frequency_CosFit_annual_mod_005_01_400 = np.loadtxt(\"annual_mod_mean_found_frequency_CosFit_400_0.005_0.01_300runs_V3\")\n",
    "mean_found_frequency_CosFit_annual_mod_0_005_400 = np.loadtxt(\"annual_mod_mean_found_frequency_CosFit_400_0.0005_0.005_300runs_V3\")                                                    \n",
    "mean_found_frequency_CosFit_annual_mod_400 = np.hstack((mean_found_frequency_CosFit_annual_mod_0_005_400, mean_found_frequency_CosFit_annual_mod_005_01_400))\n",
    "stdv_found_frequency_CosFit_annual_mod_005_01_400 = np.loadtxt(\"annual_mod_stdv_found_frequency_CosFit_400_0.005_0.01_300runs_V3\")\n",
    "stdv_found_frequency_CosFit_annual_mod_0_005_400 = np.loadtxt(\"annual_mod_stdv_found_frequency_CosFit_400_0.0005_0.005_300runs_V3\")                                                    \n",
    "stdv_found_frequency_CosFit_annual_mod_400 = np.hstack((stdv_found_frequency_CosFit_annual_mod_0_005_400, stdv_found_frequency_CosFit_annual_mod_005_01_400))\n",
    "relative_error_found_frequency_annual_mod_400_CosFit = 100*stdv_found_frequency_CosFit_annual_mod_400/mean_found_frequency_CosFit_annual_mod_400\n",
    "\n",
    "mean_found_phase_CosFit_annual_mod_005_01_400 = np.loadtxt(\"annual_mod_mean_found_phase_CosFit_400_0.005_0.01_300runs_V3\")\n",
    "mean_found_phase_CosFit_annual_mod_0_005_400 = np.loadtxt(\"annual_mod_mean_found_phase_CosFit_400_0.0005_0.005_300runs_V3\")                                                    \n",
    "mean_found_phase_CosFit_annual_mod_400 = np.hstack((mean_found_phase_CosFit_annual_mod_0_005_400, mean_found_phase_CosFit_annual_mod_005_01_400))\n",
    "stdv_found_phase_CosFit_annual_mod_005_01_400 = np.loadtxt(\"annual_mod_stdv_found_phase_CosFit_400_0.005_0.01_300runs_V3\")\n",
    "stdv_found_phase_CosFit_annual_mod_0_005_400 = np.loadtxt(\"annual_mod_stdv_found_phase_CosFit_400_0.0005_0.005_300runs_V3\")\n",
    "stdv_found_phase_CosFit_annual_mod_400 = np.hstack((stdv_found_phase_CosFit_annual_mod_0_005_400, stdv_found_phase_CosFit_annual_mod_005_01_400))\n",
    "relative_error_found_phase_annual_mod_400_CosFit = 100*stdv_found_phase_CosFit_annual_mod_400/mean_found_phase_CosFit_annual_mod_400\n"
   ]
  },
  {
   "cell_type": "code",
   "execution_count": 4,
   "metadata": {
    "collapsed": true
   },
   "outputs": [],
   "source": [
    "# for a simulated measurement time of 500 days. With Cosine fit \n",
    "\n",
    "mean_found_amplitude_CosFit_annual_mod_005_01_500 = np.loadtxt(\"annual_mod_mean_found_amplitude_CosFit_500_0.005_0.01_300runs\")\n",
    "mean_found_amplitude_CosFit_annual_mod_0_005_500 = np.loadtxt(\"annual_mod_mean_found_amplitude_CosFit_500_0.0_0.005_300runs\")\n",
    "mean_found_amplitude_CosFit_annual_mod_500 = np.hstack((mean_found_amplitude_CosFit_annual_mod_0_005_500, mean_found_amplitude_CosFit_annual_mod_005_01_500))\n",
    "stdv_found_amplitude_CosFit_annual_mod_005_01_500 = np.loadtxt(\"annual_mod_stdv_found_amplitude_CosFit_500_0.005_0.01_300runs\")\n",
    "stdv_found_amplitude_CosFit_annual_mod_0_005_500 = np.loadtxt(\"annual_mod_stdv_found_amplitude_CosFit_500_0.0_0.005_300runs\")                                                    \n",
    "stdv_found_amplitude_CosFit_annual_mod_500 = np.hstack((stdv_found_amplitude_CosFit_annual_mod_0_005_500, stdv_found_amplitude_CosFit_annual_mod_005_01_500))\n",
    "relative_error_found_amplitude_annual_mod_500_CosFit = 100*stdv_found_amplitude_CosFit_annual_mod_500/mean_found_amplitude_CosFit_annual_mod_500\n",
    "\n",
    "mean_found_frequency_CosFit_annual_mod_005_01_500 = np.loadtxt(\"annual_mod_mean_found_frequency_CosFit_500_0.005_0.01_300runs\")\n",
    "mean_found_frequency_CosFit_annual_mod_0_005_500 = np.loadtxt(\"annual_mod_mean_found_frequency_CosFit_500_0.0_0.005_300runs\")                                                    \n",
    "mean_found_frequency_CosFit_annual_mod_500 = np.hstack((mean_found_frequency_CosFit_annual_mod_0_005_500, mean_found_frequency_CosFit_annual_mod_005_01_500))\n",
    "stdv_found_frequency_CosFit_annual_mod_005_01_500 = np.loadtxt(\"annual_mod_stdv_found_frequency_CosFit_500_0.005_0.01_300runs\")\n",
    "stdv_found_frequency_CosFit_annual_mod_0_005_500 = np.loadtxt(\"annual_mod_stdv_found_frequency_CosFit_500_0.0_0.005_300runs\")                                                    \n",
    "stdv_found_frequency_CosFit_annual_mod_500 = np.hstack((stdv_found_frequency_CosFit_annual_mod_0_005_500, stdv_found_frequency_CosFit_annual_mod_005_01_500))\n",
    "relative_error_found_frequency_annual_mod_500_CosFit = 100*stdv_found_frequency_CosFit_annual_mod_500/mean_found_frequency_CosFit_annual_mod_500\n",
    "\n",
    "mean_found_phase_CosFit_annual_mod_005_01_500 = np.loadtxt(\"annual_mod_mean_found_phase_CosFit_500_0.005_0.01_300runs\")\n",
    "mean_found_phase_CosFit_annual_mod_0_005_500 = np.loadtxt(\"annual_mod_mean_found_phase_CosFit_500_0.0_0.005_300runs\")                                                    \n",
    "mean_found_phase_CosFit_annual_mod_500 = np.hstack((mean_found_phase_CosFit_annual_mod_0_005_500, mean_found_phase_CosFit_annual_mod_005_01_500))\n",
    "stdv_found_phase_CosFit_annual_mod_005_01_500 = np.loadtxt(\"annual_mod_stdv_found_phase_CosFit_500_0.005_0.01_300runs\")\n",
    "stdv_found_phase_CosFit_annual_mod_0_005_500 = np.loadtxt(\"annual_mod_stdv_found_phase_CosFit_500_0.0_0.005_300runs\")\n",
    "stdv_found_phase_CosFit_annual_mod_500 = np.hstack((stdv_found_phase_CosFit_annual_mod_0_005_500, stdv_found_phase_CosFit_annual_mod_005_01_500))\n",
    "relative_error_found_phase_annual_mod_500_CosFit = 100*stdv_found_phase_CosFit_annual_mod_500/mean_found_phase_CosFit_annual_mod_500\n"
   ]
  },
  {
   "cell_type": "code",
   "execution_count": 5,
   "metadata": {
    "collapsed": true
   },
   "outputs": [],
   "source": [
    "# for a simulated measurement time of 600 days. With Cosine fit \n",
    "\n",
    "mean_found_amplitude_CosFit_annual_mod_005_01_600 = np.loadtxt(\"annual_mod_mean_found_amplitude_CosFit_600_0.005_0.01_300runs\")\n",
    "mean_found_amplitude_CosFit_annual_mod_0_005_600 = np.loadtxt(\"annual_mod_mean_found_amplitude_CosFit_600_0.0_0.005_300runs\")\n",
    "mean_found_amplitude_CosFit_annual_mod_600 = np.hstack((mean_found_amplitude_CosFit_annual_mod_0_005_600, mean_found_amplitude_CosFit_annual_mod_005_01_600))\n",
    "stdv_found_amplitude_CosFit_annual_mod_005_01_600 = np.loadtxt(\"annual_mod_stdv_found_amplitude_CosFit_600_0.005_0.01_300runs\")\n",
    "stdv_found_amplitude_CosFit_annual_mod_0_005_600 = np.loadtxt(\"annual_mod_stdv_found_amplitude_CosFit_600_0.0_0.005_300runs\")                                                    \n",
    "stdv_found_amplitude_CosFit_annual_mod_600 = np.hstack((stdv_found_amplitude_CosFit_annual_mod_0_005_600, stdv_found_amplitude_CosFit_annual_mod_005_01_600))\n",
    "relative_error_found_amplitude_annual_mod_600_CosFit = 100*stdv_found_amplitude_CosFit_annual_mod_600/mean_found_amplitude_CosFit_annual_mod_600\n",
    "\n",
    "mean_found_frequency_CosFit_annual_mod_005_01_600 = np.loadtxt(\"annual_mod_mean_found_frequency_CosFit_600_0.005_0.01_300runs\")\n",
    "mean_found_frequency_CosFit_annual_mod_0_005_600 = np.loadtxt(\"annual_mod_mean_found_frequency_CosFit_600_0.0_0.005_300runs\")                                                    \n",
    "mean_found_frequency_CosFit_annual_mod_600 = np.hstack((mean_found_frequency_CosFit_annual_mod_0_005_600, mean_found_frequency_CosFit_annual_mod_005_01_600))\n",
    "stdv_found_frequency_CosFit_annual_mod_005_01_600 = np.loadtxt(\"annual_mod_stdv_found_frequency_CosFit_600_0.005_0.01_300runs\")\n",
    "stdv_found_frequency_CosFit_annual_mod_0_005_600 = np.loadtxt(\"annual_mod_stdv_found_frequency_CosFit_600_0.0_0.005_300runs\")                                                    \n",
    "stdv_found_frequency_CosFit_annual_mod_600 = np.hstack((stdv_found_frequency_CosFit_annual_mod_0_005_600, stdv_found_frequency_CosFit_annual_mod_005_01_600))\n",
    "relative_error_found_frequency_annual_mod_600_CosFit = 100*stdv_found_frequency_CosFit_annual_mod_600/mean_found_frequency_CosFit_annual_mod_600\n",
    "\n",
    "mean_found_phase_CosFit_annual_mod_005_01_600 = np.loadtxt(\"annual_mod_mean_found_phase_CosFit_600_0.005_0.01_300runs\")\n",
    "mean_found_phase_CosFit_annual_mod_0_005_600 = np.loadtxt(\"annual_mod_mean_found_phase_CosFit_600_0.0_0.005_300runs\")                                                    \n",
    "mean_found_phase_CosFit_annual_mod_600 = np.hstack((mean_found_phase_CosFit_annual_mod_0_005_600, mean_found_phase_CosFit_annual_mod_005_01_600))\n",
    "stdv_found_phase_CosFit_annual_mod_005_01_600 = np.loadtxt(\"annual_mod_stdv_found_phase_CosFit_600_0.005_0.01_300runs\")\n",
    "stdv_found_phase_CosFit_annual_mod_0_005_600 = np.loadtxt(\"annual_mod_stdv_found_phase_CosFit_600_0.0_0.005_300runs\")\n",
    "stdv_found_phase_CosFit_annual_mod_600 = np.hstack((stdv_found_phase_CosFit_annual_mod_0_005_600, stdv_found_phase_CosFit_annual_mod_005_01_600))\n",
    "relative_error_found_phase_annual_mod_600_CosFit = 100*stdv_found_phase_CosFit_annual_mod_600/mean_found_phase_CosFit_annual_mod_600\n"
   ]
  },
  {
   "cell_type": "code",
   "execution_count": 6,
   "metadata": {
    "collapsed": true
   },
   "outputs": [],
   "source": [
    "# for a simulated measurement time of 750 days. With Cosine fit \n",
    "\n",
    "mean_found_amplitude_CosFit_annual_mod_005_01_750 = np.loadtxt(\"annual_mod_mean_found_amplitude_CosFit_750_0.005_0.01_300runs\")\n",
    "mean_found_amplitude_CosFit_annual_mod_0_005_750 = np.loadtxt(\"annual_mod_mean_found_amplitude_CosFit_750_0.0_0.005_300runs\")\n",
    "mean_found_amplitude_CosFit_annual_mod_750 = np.hstack((mean_found_amplitude_CosFit_annual_mod_0_005_750, mean_found_amplitude_CosFit_annual_mod_005_01_750))\n",
    "stdv_found_amplitude_CosFit_annual_mod_005_01_750 = np.loadtxt(\"annual_mod_stdv_found_amplitude_CosFit_750_0.005_0.01_300runs\")\n",
    "stdv_found_amplitude_CosFit_annual_mod_0_005_750 = np.loadtxt(\"annual_mod_stdv_found_amplitude_CosFit_750_0.0_0.005_300runs\")                                                    \n",
    "stdv_found_amplitude_CosFit_annual_mod_750 = np.hstack((stdv_found_amplitude_CosFit_annual_mod_0_005_750, stdv_found_amplitude_CosFit_annual_mod_005_01_750))\n",
    "relative_error_found_amplitude_annual_mod_750_CosFit = 100*stdv_found_amplitude_CosFit_annual_mod_750/mean_found_amplitude_CosFit_annual_mod_750\n",
    "\n",
    "mean_found_frequency_CosFit_annual_mod_005_01_750 = np.loadtxt(\"annual_mod_mean_found_frequency_CosFit_750_0.005_0.01_300runs\")\n",
    "mean_found_frequency_CosFit_annual_mod_0_005_750 = np.loadtxt(\"annual_mod_mean_found_frequency_CosFit_750_0.0_0.005_300runs\")                                                    \n",
    "mean_found_frequency_CosFit_annual_mod_750 = np.hstack((mean_found_frequency_CosFit_annual_mod_0_005_750, mean_found_frequency_CosFit_annual_mod_005_01_750))\n",
    "stdv_found_frequency_CosFit_annual_mod_005_01_750 = np.loadtxt(\"annual_mod_stdv_found_frequency_CosFit_750_0.005_0.01_300runs\")\n",
    "stdv_found_frequency_CosFit_annual_mod_0_005_750 = np.loadtxt(\"annual_mod_stdv_found_frequency_CosFit_750_0.0_0.005_300runs\")                                                    \n",
    "stdv_found_frequency_CosFit_annual_mod_750 = np.hstack((stdv_found_frequency_CosFit_annual_mod_0_005_750, stdv_found_frequency_CosFit_annual_mod_005_01_750))\n",
    "relative_error_found_frequency_annual_mod_750_CosFit = 100*stdv_found_frequency_CosFit_annual_mod_750/mean_found_frequency_CosFit_annual_mod_750\n",
    "\n",
    "mean_found_phase_CosFit_annual_mod_005_01_750 = np.loadtxt(\"annual_mod_mean_found_phase_CosFit_750_0.005_0.01_300runs\")\n",
    "mean_found_phase_CosFit_annual_mod_0_005_750 = np.loadtxt(\"annual_mod_mean_found_phase_CosFit_750_0.0_0.005_300runs\")                                                    \n",
    "mean_found_phase_CosFit_annual_mod_750 = np.hstack((mean_found_phase_CosFit_annual_mod_0_005_750, mean_found_phase_CosFit_annual_mod_005_01_750))\n",
    "stdv_found_phase_CosFit_annual_mod_005_01_750 = np.loadtxt(\"annual_mod_stdv_found_phase_CosFit_750_0.005_0.01_300runs\")\n",
    "stdv_found_phase_CosFit_annual_mod_0_005_750 = np.loadtxt(\"annual_mod_stdv_found_phase_CosFit_750_0.0_0.005_300runs\")\n",
    "stdv_found_phase_CosFit_annual_mod_750 = np.hstack((stdv_found_phase_CosFit_annual_mod_0_005_750, stdv_found_phase_CosFit_annual_mod_005_01_750))\n",
    "relative_error_found_phase_annual_mod_750_CosFit = 100*stdv_found_phase_CosFit_annual_mod_750/mean_found_phase_CosFit_annual_mod_750\n"
   ]
  },
  {
   "cell_type": "code",
   "execution_count": 14,
   "metadata": {
    "collapsed": false
   },
   "outputs": [],
   "source": [
    "np.savetxt('annual_mod_input_amplitude_CosFit', annual_mod_input_amplitude_CosFit)"
   ]
  },
  {
   "cell_type": "code",
   "execution_count": 15,
   "metadata": {
    "collapsed": true
   },
   "outputs": [],
   "source": [
    "# With COSINE FIT\n",
    "np.savetxt('mean_found_amplitude_CosFit_annual_mod_300', mean_found_amplitude_CosFit_annual_mod_300)\n",
    "np.savetxt('stdv_found_amplitude_CosFit_annual_mod_300', stdv_found_amplitude_CosFit_annual_mod_300)\n",
    "np.savetxt('mean_found_frequency_CosFit_annual_mod_300', mean_found_frequency_CosFit_annual_mod_300)\n",
    "np.savetxt('stdv_found_frequency_CosFit_annual_mod_300', stdv_found_frequency_CosFit_annual_mod_300)\n",
    "np.savetxt('mean_found_phase_CosFit_annual_mod_300', mean_found_phase_CosFit_annual_mod_300)\n",
    "np.savetxt('stdv_found_phase_CosFit_annual_mod_300', stdv_found_phase_CosFit_annual_mod_300)"
   ]
  },
  {
   "cell_type": "code",
   "execution_count": 7,
   "metadata": {
    "collapsed": true
   },
   "outputs": [],
   "source": [
    "np.savetxt('mean_found_amplitude_CosFit_annual_mod_400_V3', mean_found_amplitude_CosFit_annual_mod_400)\n",
    "np.savetxt('stdv_found_amplitude_CosFit_annual_mod_400_V3', stdv_found_amplitude_CosFit_annual_mod_400)\n",
    "np.savetxt('mean_found_frequency_CosFit_annual_mod_400_V3', mean_found_frequency_CosFit_annual_mod_400)\n",
    "np.savetxt('stdv_found_frequency_CosFit_annual_mod_400_V3', stdv_found_frequency_CosFit_annual_mod_400)\n",
    "np.savetxt('mean_found_phase_CosFit_annual_mod_400_V3', mean_found_phase_CosFit_annual_mod_400)\n",
    "np.savetxt('stdv_found_phase_CosFit_annual_mod_400_V3', stdv_found_phase_CosFit_annual_mod_400)"
   ]
  },
  {
   "cell_type": "code",
   "execution_count": 17,
   "metadata": {
    "collapsed": true
   },
   "outputs": [],
   "source": [
    "np.savetxt('mean_found_amplitude_CosFit_annual_mod_500', mean_found_amplitude_CosFit_annual_mod_500)\n",
    "np.savetxt('stdv_found_amplitude_CosFit_annual_mod_500', stdv_found_amplitude_CosFit_annual_mod_500)\n",
    "np.savetxt('mean_found_frequency_CosFit_annual_mod_500', mean_found_frequency_CosFit_annual_mod_500)\n",
    "np.savetxt('stdv_found_frequency_CosFit_annual_mod_500', stdv_found_frequency_CosFit_annual_mod_500)\n",
    "np.savetxt('mean_found_phase_CosFit_annual_mod_500', mean_found_phase_CosFit_annual_mod_500)\n",
    "np.savetxt('stdv_found_phase_CosFit_annual_mod_500', stdv_found_phase_CosFit_annual_mod_500)"
   ]
  },
  {
   "cell_type": "code",
   "execution_count": 18,
   "metadata": {
    "collapsed": true
   },
   "outputs": [],
   "source": [
    "np.savetxt('mean_found_amplitude_CosFit_annual_mod_600', mean_found_amplitude_CosFit_annual_mod_600)\n",
    "np.savetxt('stdv_found_amplitude_CosFit_annual_mod_600', stdv_found_amplitude_CosFit_annual_mod_600)\n",
    "np.savetxt('mean_found_frequency_CosFit_annual_mod_600', mean_found_frequency_CosFit_annual_mod_600)\n",
    "np.savetxt('stdv_found_frequency_CosFit_annual_mod_600', stdv_found_frequency_CosFit_annual_mod_600)\n",
    "np.savetxt('mean_found_phase_CosFit_annual_mod_600', mean_found_phase_CosFit_annual_mod_600)\n",
    "np.savetxt('stdv_found_phase_CosFit_annual_mod_600', stdv_found_phase_CosFit_annual_mod_600)"
   ]
  },
  {
   "cell_type": "code",
   "execution_count": 19,
   "metadata": {
    "collapsed": true
   },
   "outputs": [],
   "source": [
    "np.savetxt('mean_found_amplitude_CosFit_annual_mod_750', mean_found_amplitude_CosFit_annual_mod_750)\n",
    "np.savetxt('stdv_found_amplitude_CosFit_annual_mod_750', stdv_found_amplitude_CosFit_annual_mod_750)\n",
    "np.savetxt('mean_found_frequency_CosFit_annual_mod_750', mean_found_frequency_CosFit_annual_mod_750)\n",
    "np.savetxt('stdv_found_frequency_CosFit_annual_mod_750', stdv_found_frequency_CosFit_annual_mod_750)\n",
    "np.savetxt('mean_found_phase_CosFit_annual_mod_750', mean_found_phase_CosFit_annual_mod_750)\n",
    "np.savetxt('stdv_found_phase_CosFit_annual_mod_750', stdv_found_phase_CosFit_annual_mod_750)"
   ]
  },
  {
   "cell_type": "code",
   "execution_count": 9,
   "metadata": {
    "collapsed": false
   },
   "outputs": [],
   "source": [
    "# With COSINE FIT\n",
    "np.savetxt('relative_error_found_amplitude_annual_mod_300_CosFit', relative_error_found_amplitude_annual_mod_300_CosFit)\n",
    "np.savetxt('relative_error_found_frequency_annual_mod_300_CosFit', relative_error_found_frequency_annual_mod_300_CosFit)\n",
    "np.savetxt('relative_error_found_phase_annual_mod_300_CosFit', relative_error_found_phase_annual_mod_300_CosFit)\n",
    "\n",
    "np.savetxt('relative_error_found_amplitude_annual_mod_400_CosFit_V3', relative_error_found_amplitude_annual_mod_400_CosFit)\n",
    "np.savetxt('relative_error_found_frequency_annual_mod_400_CosFit_V3', relative_error_found_frequency_annual_mod_400_CosFit)\n",
    "np.savetxt('relative_error_found_phase_annual_mod_400_CosFit_V3', relative_error_found_phase_annual_mod_400_CosFit)\n",
    "\n",
    "np.savetxt('relative_error_found_amplitude_annual_mod_500_CosFit', relative_error_found_amplitude_annual_mod_500_CosFit)\n",
    "np.savetxt('relative_error_found_frequency_annual_mod_500_CosFit', relative_error_found_frequency_annual_mod_500_CosFit)\n",
    "np.savetxt('relative_error_found_phase_annual_mod_500_CosFit', relative_error_found_phase_annual_mod_500_CosFit)\n",
    "\n",
    "np.savetxt('relative_error_found_amplitude_annual_mod_600_CosFit', relative_error_found_amplitude_annual_mod_600_CosFit)\n",
    "np.savetxt('relative_error_found_frequency_annual_mod_600_CosFit', relative_error_found_frequency_annual_mod_600_CosFit)\n",
    "np.savetxt('relative_error_found_phase_annual_mod_600_CosFit', relative_error_found_phase_annual_mod_600_CosFit)\n",
    "\n",
    "np.savetxt('relative_error_found_amplitude_annual_mod_750_CosFit', relative_error_found_amplitude_annual_mod_750_CosFit)\n",
    "np.savetxt('relative_error_found_frequency_annual_mod_750_CosFit', relative_error_found_frequency_annual_mod_750_CosFit)\n",
    "np.savetxt('relative_error_found_phase_annual_mod_750_CosFit', relative_error_found_phase_annual_mod_750_CosFit)\n"
   ]
  },
  {
   "cell_type": "code",
   "execution_count": null,
   "metadata": {
    "collapsed": true
   },
   "outputs": [],
   "source": []
  }
 ],
 "metadata": {
  "kernelspec": {
   "display_name": "Python 2",
   "language": "python",
   "name": "python2"
  },
  "language_info": {
   "codemirror_mode": {
    "name": "ipython",
    "version": 2
   },
   "file_extension": ".py",
   "mimetype": "text/x-python",
   "name": "python",
   "nbconvert_exporter": "python",
   "pygments_lexer": "ipython2",
   "version": "2.7.10"
  }
 },
 "nbformat": 4,
 "nbformat_minor": 0
}
